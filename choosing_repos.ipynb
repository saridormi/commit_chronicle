{
 "cells": [
  {
   "cell_type": "markdown",
   "metadata": {},
   "source": [
    "# Choosing GitHub repos for data collection"
   ]
  },
  {
   "cell_type": "code",
   "execution_count": 1,
   "metadata": {},
   "outputs": [],
   "source": [
    "import os\n",
    "%load_ext autoreload\n",
    "%autoreload 2\n",
    "\n",
    "import pandas as pd\n",
    "pd.options.display.float_format = '{:.2f}'.format\n",
    "os.chdir('D:\\github_data')"
   ]
  },
  {
   "cell_type": "markdown",
   "metadata": {},
   "source": [
    "Выставляем на [GitHub Search](https://seart-ghs.si.usi.ch/) следующие фильтры:\n",
    "\n",
    "* язык Java\n",
    "* 50+ звезд\n",
    "* 1000+ коммитов\n",
    "* 10+ контрибьюторов\n",
    "* репозитории созданы не позднее 16 марта 2019 года (чтобы им было 2+ года)\n",
    "* не берем форки\n",
    "* не берем репозитории без лицензии\n",
    "\n",
    "И скриншот, скорее чтобы удостовериться, что я все поставила правильно:\n",
    "\n",
    "<img src=\"filters.jpg\">"
   ]
  },
  {
   "cell_type": "code",
   "execution_count": null,
   "outputs": [],
   "source": [
    "filter_df = pd.read_csv('filter_results.csv')"
   ],
   "metadata": {
    "collapsed": false,
    "pycharm": {
     "name": "#%%\n"
    }
   }
  },
  {
   "cell_type": "markdown",
   "metadata": {},
   "source": [
    "Соберем через GitHub API дополнительную информацию о репозиториях, оставшихся после применения фильтров в GitHub Search."
   ]
  },
  {
   "cell_type": "code",
   "execution_count": 5,
   "metadata": {},
   "outputs": [],
   "source": [
    "from github import Github\n",
    "\n",
    "# using an access token\n",
    "with open('access_token.txt') as file:\n",
    "    access_token = file.readline().strip()\n",
    "    \n",
    "g = Github(access_token)"
   ]
  },
  {
   "cell_type": "code",
   "execution_count": 9,
   "metadata": {},
   "outputs": [
    {
     "name": "stdout",
     "output_type": "stream",
     "text": [
      "apache/axis2-java\n",
      "boy0001/fastasyncworldedit\n"
     ]
    }
   ],
   "source": [
    "repos = []\n",
    "for name in filter_df['name']:\n",
    "    try:\n",
    "        repos.append(g.get_repo(name))\n",
    "    except:\n",
    "        print(name)\n",
    "        repos.append(-1)"
   ]
  },
  {
   "cell_type": "code",
   "execution_count": 10,
   "metadata": {},
   "outputs": [],
   "source": [
    "full_names = []\n",
    "git_urls = []\n",
    "languages = []\n",
    "is_ascii_description = []\n",
    "\n",
    "for repo in repos:\n",
    "    try:\n",
    "        full_names.append(repo.full_name)\n",
    "        git_urls.append(repo.git_url)\n",
    "        languages.append(repo.language)\n",
    "    except:\n",
    "        full_names.append('')\n",
    "        git_urls.append('')\n",
    "        languages.append('null')\n",
    "        \n",
    "    try:\n",
    "        is_ascii_description.append(repo.description.isascii())\n",
    "    except:\n",
    "        is_ascii_description.append(False)"
   ]
  },
  {
   "cell_type": "code",
   "execution_count": 11,
   "metadata": {},
   "outputs": [],
   "source": [
    "filter_df['full_name'] = full_names\n",
    "filter_df['git_url'] = git_urls\n",
    "filter_df['language'] = languages\n",
    "filter_df['is_ascii_description'] = is_ascii_description"
   ]
  },
  {
   "cell_type": "code",
   "execution_count": 12,
   "metadata": {},
   "outputs": [
    {
     "data": {
      "text/plain": [
       "array(['Other', 'GNU General Public License v2.0',\n",
       "       'GNU General Public License v3.0', 'Apache License 2.0',\n",
       "       'GNU Affero General Public License v3.0', 'MIT License',\n",
       "       'GNU Lesser General Public License v3.0',\n",
       "       'GNU Lesser General Public License v2.1',\n",
       "       'BSD 2-Clause Simplified License', 'ISC License',\n",
       "       'BSD 3-Clause New or Revised License',\n",
       "       'Eclipse Public License 1.0', 'Eclipse Public License 2.0',\n",
       "       'Mozilla Public License 2.0',\n",
       "       'BSD 4-Clause Original or Old License',\n",
       "       'Creative Commons Attribution Share Alike 4.0 International',\n",
       "       'Creative Commons Zero v1.0 Universal',\n",
       "       'European Union Public License 1.1',\n",
       "       'Educational Community License v2.0', 'The Unlicense',\n",
       "       'European Union Public License 1.2'], dtype=object)"
      ]
     },
     "execution_count": 12,
     "metadata": {},
     "output_type": "execute_result"
    }
   ],
   "source": [
    "filter_df['license'].unique()"
   ]
  },
  {
   "cell_type": "markdown",
   "metadata": {},
   "source": [
    "Теперь еще больше пофильтруем репозитории:\n",
    "\n",
    "1. Отбросим репозитории, где как основной язык указан не Java\n",
    "2. Отбросим репозитории, где в описании присутствуют символы не из ASCII\n",
    "3. Отбросим репозитории с лицензиями, отличными от Apache, MIT или BSD 3-Clause\n",
    "4. Отбросим совпадения по `full_name` (которые могли появиться из-за переименования/переноса репозиториев)"
   ]
  },
  {
   "cell_type": "code",
   "execution_count": 13,
   "metadata": {},
   "outputs": [
    {
     "name": "stdout",
     "output_type": "stream",
     "text": [
      "Before additional filtering: 2144\n",
      "After dropping repos without language=Java: 2131, diff with previous step: 13\n",
      "After dropping repos without ASCII-description: 1930, diff with previous step: 201\n",
      "After dropping repos without Apache/MIT/BSD licences: 1008, diff with previous step: 922\n",
      "After dropping full_name duplicates: 997, diff with previous step: 11\n"
     ]
    }
   ],
   "source": [
    "# leave repos only:\n",
    "# 1. with Java as a main language\n",
    "prev_len = len(filter_df)\n",
    "print(f\"Before additional filtering: {prev_len}\")\n",
    "res_df = filter_df.loc[filter_df['language'] == 'Java']\n",
    "print(f\"After dropping repos without language=Java: {len(res_df)}, diff with previous step: {prev_len - len(res_df)}\")\n",
    "prev_len = len(res_df)\n",
    "\n",
    "# 2. with description without non-ascii symbols\n",
    "res_df = res_df.loc[res_df['is_ascii_description']]\n",
    "print(f\"After dropping repos without ASCII-description: {len(res_df)}, diff with previous step: {prev_len - len(res_df)}\")\n",
    "prev_len = len(res_df)\n",
    "\n",
    "# 3. with Apache / MIT / BSD license\n",
    "res_df = res_df.loc[res_df['license'].isin(['Apache License 2.0', 'MIT License',\n",
    "                                            'BSD 3-Clause New or Revised License'])]\n",
    "print(f\"After dropping repos without Apache/MIT/BSD licences: {len(res_df)}, diff with previous step: {prev_len - len(res_df)}\")\n",
    "prev_len = len(res_df)\n",
    "\n",
    "# 4. drop duplicate repos\n",
    "res_df = res_df.drop_duplicates(subset=['full_name'])\n",
    "print(f\"After dropping full_name duplicates: {len(res_df)}, diff with previous step: {prev_len - len(res_df)}\")\n",
    "\n",
    "res_df = res_df.sort_values(by='stargazers', ascending=False)"
   ]
  },
  {
   "cell_type": "code",
   "execution_count": 14,
   "metadata": {},
   "outputs": [
    {
     "data": {
      "text/html": [
       "<div>\n",
       "<style scoped>\n",
       "    .dataframe tbody tr th:only-of-type {\n",
       "        vertical-align: middle;\n",
       "    }\n",
       "\n",
       "    .dataframe tbody tr th {\n",
       "        vertical-align: top;\n",
       "    }\n",
       "\n",
       "    .dataframe thead th {\n",
       "        text-align: right;\n",
       "    }\n",
       "</style>\n",
       "<table border=\"1\" class=\"dataframe\">\n",
       "  <thead>\n",
       "    <tr style=\"text-align: right;\">\n",
       "      <th></th>\n",
       "      <th>name</th>\n",
       "      <th>fork project</th>\n",
       "      <th>commits</th>\n",
       "      <th>branches</th>\n",
       "      <th>default branch</th>\n",
       "      <th>releases</th>\n",
       "      <th>contributors</th>\n",
       "      <th>license</th>\n",
       "      <th>watchers</th>\n",
       "      <th>stargazers</th>\n",
       "      <th>...</th>\n",
       "      <th>last commit</th>\n",
       "      <th>last commit SHA</th>\n",
       "      <th>has wiki</th>\n",
       "      <th>is archived</th>\n",
       "      <th>languages</th>\n",
       "      <th>labels</th>\n",
       "      <th>full_name</th>\n",
       "      <th>git_url</th>\n",
       "      <th>language</th>\n",
       "      <th>is_ascii_description</th>\n",
       "    </tr>\n",
       "  </thead>\n",
       "  <tbody>\n",
       "    <tr>\n",
       "      <th>1819</th>\n",
       "      <td>spring-projects/spring-boot</td>\n",
       "      <td>False</td>\n",
       "      <td>31276</td>\n",
       "      <td>13</td>\n",
       "      <td>master</td>\n",
       "      <td>87</td>\n",
       "      <td>382</td>\n",
       "      <td>Apache License 2.0</td>\n",
       "      <td>3450</td>\n",
       "      <td>53976</td>\n",
       "      <td>...</td>\n",
       "      <td>2021-03-15 15:25:53.0</td>\n",
       "      <td>b860d3892d0769219c7918279b50319c029fbdf5</td>\n",
       "      <td>True</td>\n",
       "      <td>False</td>\n",
       "      <td>Java,HTML,Kotlin,Shell,JavaScript,Groovy,Ruby,...</td>\n",
       "      <td>for: external-project,for: merge-with-amendmen...</td>\n",
       "      <td>spring-projects/spring-boot</td>\n",
       "      <td>git://github.com/spring-projects/spring-boot.git</td>\n",
       "      <td>Java</td>\n",
       "      <td>True</td>\n",
       "    </tr>\n",
       "    <tr>\n",
       "      <th>1821</th>\n",
       "      <td>spring-projects/spring-framework</td>\n",
       "      <td>False</td>\n",
       "      <td>22321</td>\n",
       "      <td>15</td>\n",
       "      <td>master</td>\n",
       "      <td>202</td>\n",
       "      <td>390</td>\n",
       "      <td>Apache License 2.0</td>\n",
       "      <td>3484</td>\n",
       "      <td>41837</td>\n",
       "      <td>...</td>\n",
       "      <td>2021-03-13 17:03:34.0</td>\n",
       "      <td>9c030bacb83e833e64ef76599dfe6283b7c514cc</td>\n",
       "      <td>True</td>\n",
       "      <td>False</td>\n",
       "      <td>Java,Kotlin,Groovy,AspectJ,FreeMarker,CSS,GAP,...</td>\n",
       "      <td>for: backport-to-4.3.x,for: backport-to-5.0.x,...</td>\n",
       "      <td>spring-projects/spring-framework</td>\n",
       "      <td>git://github.com/spring-projects/spring-framew...</td>\n",
       "      <td>Java</td>\n",
       "      <td>True</td>\n",
       "    </tr>\n",
       "    <tr>\n",
       "      <th>822</th>\n",
       "      <td>google/guava</td>\n",
       "      <td>False</td>\n",
       "      <td>5444</td>\n",
       "      <td>11</td>\n",
       "      <td>master</td>\n",
       "      <td>31</td>\n",
       "      <td>256</td>\n",
       "      <td>Apache License 2.0</td>\n",
       "      <td>2483</td>\n",
       "      <td>40563</td>\n",
       "      <td>...</td>\n",
       "      <td>2021-03-12 00:50:33.0</td>\n",
       "      <td>fe3fda0ca54076a2268d060725e9a6e26f867a5e</td>\n",
       "      <td>True</td>\n",
       "      <td>False</td>\n",
       "      <td>Java,CSS,Shell,JavaScript</td>\n",
       "      <td>P0,P1,P2,P3,P4,cla: no,cla: yes,dependencies,f...</td>\n",
       "      <td>google/guava</td>\n",
       "      <td>git://github.com/google/guava.git</td>\n",
       "      <td>Java</td>\n",
       "      <td>True</td>\n",
       "    </tr>\n",
       "    <tr>\n",
       "      <th>1837</th>\n",
       "      <td>square/retrofit</td>\n",
       "      <td>False</td>\n",
       "      <td>1865</td>\n",
       "      <td>13</td>\n",
       "      <td>master</td>\n",
       "      <td>54</td>\n",
       "      <td>152</td>\n",
       "      <td>Apache License 2.0</td>\n",
       "      <td>1619</td>\n",
       "      <td>37601</td>\n",
       "      <td>...</td>\n",
       "      <td>2021-02-24 13:08:49.0</td>\n",
       "      <td>fbf1225e28e2094bec35f587b8933748b705d167</td>\n",
       "      <td>True</td>\n",
       "      <td>False</td>\n",
       "      <td>Java,Kotlin,HTML,CSS,Shell</td>\n",
       "      <td>Blocked,Bug,Documentation,Enhancement,Feature,...</td>\n",
       "      <td>square/retrofit</td>\n",
       "      <td>git://github.com/square/retrofit.git</td>\n",
       "      <td>Java</td>\n",
       "      <td>True</td>\n",
       "    </tr>\n",
       "    <tr>\n",
       "      <th>1913</th>\n",
       "      <td>thealgorithms/java</td>\n",
       "      <td>False</td>\n",
       "      <td>1323</td>\n",
       "      <td>3</td>\n",
       "      <td>master</td>\n",
       "      <td>0</td>\n",
       "      <td>216</td>\n",
       "      <td>MIT License</td>\n",
       "      <td>2271</td>\n",
       "      <td>35997</td>\n",
       "      <td>...</td>\n",
       "      <td>2021-03-14 01:41:31.0</td>\n",
       "      <td>34c5edd11e468acb04d0da67834732a97ad36865</td>\n",
       "      <td>True</td>\n",
       "      <td>False</td>\n",
       "      <td>Java,Dockerfile</td>\n",
       "      <td>Good First Issue,Status: Approved,Status: Docs...</td>\n",
       "      <td>TheAlgorithms/Java</td>\n",
       "      <td>git://github.com/TheAlgorithms/Java.git</td>\n",
       "      <td>Java</td>\n",
       "      <td>True</td>\n",
       "    </tr>\n",
       "  </tbody>\n",
       "</table>\n",
       "<p>5 rows × 31 columns</p>\n",
       "</div>"
      ],
      "text/plain": [
       "                                  name  fork project  commits  branches  \\\n",
       "1819       spring-projects/spring-boot         False    31276        13   \n",
       "1821  spring-projects/spring-framework         False    22321        15   \n",
       "822                       google/guava         False     5444        11   \n",
       "1837                   square/retrofit         False     1865        13   \n",
       "1913                thealgorithms/java         False     1323         3   \n",
       "\n",
       "     default branch  releases  contributors             license  watchers  \\\n",
       "1819         master        87           382  Apache License 2.0      3450   \n",
       "1821         master       202           390  Apache License 2.0      3484   \n",
       "822          master        31           256  Apache License 2.0      2483   \n",
       "1837         master        54           152  Apache License 2.0      1619   \n",
       "1913         master         0           216         MIT License      2271   \n",
       "\n",
       "      stargazers  ...            last commit  \\\n",
       "1819       53976  ...  2021-03-15 15:25:53.0   \n",
       "1821       41837  ...  2021-03-13 17:03:34.0   \n",
       "822        40563  ...  2021-03-12 00:50:33.0   \n",
       "1837       37601  ...  2021-02-24 13:08:49.0   \n",
       "1913       35997  ...  2021-03-14 01:41:31.0   \n",
       "\n",
       "                               last commit SHA has wiki is archived  \\\n",
       "1819  b860d3892d0769219c7918279b50319c029fbdf5     True       False   \n",
       "1821  9c030bacb83e833e64ef76599dfe6283b7c514cc     True       False   \n",
       "822   fe3fda0ca54076a2268d060725e9a6e26f867a5e     True       False   \n",
       "1837  fbf1225e28e2094bec35f587b8933748b705d167     True       False   \n",
       "1913  34c5edd11e468acb04d0da67834732a97ad36865     True       False   \n",
       "\n",
       "                                              languages  \\\n",
       "1819  Java,HTML,Kotlin,Shell,JavaScript,Groovy,Ruby,...   \n",
       "1821  Java,Kotlin,Groovy,AspectJ,FreeMarker,CSS,GAP,...   \n",
       "822                           Java,CSS,Shell,JavaScript   \n",
       "1837                         Java,Kotlin,HTML,CSS,Shell   \n",
       "1913                                    Java,Dockerfile   \n",
       "\n",
       "                                                 labels  \\\n",
       "1819  for: external-project,for: merge-with-amendmen...   \n",
       "1821  for: backport-to-4.3.x,for: backport-to-5.0.x,...   \n",
       "822   P0,P1,P2,P3,P4,cla: no,cla: yes,dependencies,f...   \n",
       "1837  Blocked,Bug,Documentation,Enhancement,Feature,...   \n",
       "1913  Good First Issue,Status: Approved,Status: Docs...   \n",
       "\n",
       "                             full_name  \\\n",
       "1819       spring-projects/spring-boot   \n",
       "1821  spring-projects/spring-framework   \n",
       "822                       google/guava   \n",
       "1837                   square/retrofit   \n",
       "1913                TheAlgorithms/Java   \n",
       "\n",
       "                                                git_url language  \\\n",
       "1819   git://github.com/spring-projects/spring-boot.git     Java   \n",
       "1821  git://github.com/spring-projects/spring-framew...     Java   \n",
       "822                   git://github.com/google/guava.git     Java   \n",
       "1837               git://github.com/square/retrofit.git     Java   \n",
       "1913            git://github.com/TheAlgorithms/Java.git     Java   \n",
       "\n",
       "     is_ascii_description  \n",
       "1819                 True  \n",
       "1821                 True  \n",
       "822                  True  \n",
       "1837                 True  \n",
       "1913                 True  \n",
       "\n",
       "[5 rows x 31 columns]"
      ]
     },
     "execution_count": 14,
     "metadata": {},
     "output_type": "execute_result"
    }
   ],
   "source": [
    "res_df.head()"
   ]
  },
  {
   "cell_type": "code",
   "execution_count": 15,
   "metadata": {},
   "outputs": [
    {
     "name": "stdout",
     "output_type": "stream",
     "text": [
      "997 repos and 4616411 commits\n"
     ]
    }
   ],
   "source": [
    "print(f\"{len(res_df)} repos and {res_df['commits'].sum()} commits\")"
   ]
  },
  {
   "cell_type": "code",
   "execution_count": 16,
   "metadata": {
    "pycharm": {
     "name": "#%%\n"
    }
   },
   "outputs": [],
   "source": [
    "res_df.to_csv('result.csv', index=None)\n",
    "res_df['name'].to_csv('repos_names.txt', index=None, header=None)\n",
    "res_df['git_url'].to_csv('repos_urls.txt', index=None, header=None)"
   ]
  }
 ],
 "metadata": {
  "kernelspec": {
   "display_name": "Python 3",
   "language": "python",
   "name": "python3"
  },
  "language_info": {
   "codemirror_mode": {
    "name": "ipython",
    "version": 3
   },
   "file_extension": ".py",
   "mimetype": "text/x-python",
   "name": "python",
   "nbconvert_exporter": "python",
   "pygments_lexer": "ipython3",
   "version": "3.8.5"
  }
 },
 "nbformat": 4,
 "nbformat_minor": 4
}