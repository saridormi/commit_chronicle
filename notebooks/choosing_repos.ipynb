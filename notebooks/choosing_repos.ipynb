{
 "cells": [
  {
   "cell_type": "markdown",
   "metadata": {
    "id": "F5zcLrQ1CwHz"
   },
   "source": [
    "# Mining repos from GitHub\n",
    "\n",
    "## Date: 15 September 2021\n",
    "\n",
    "List of all available at the moment programming languages:\n",
    "- C\n",
    "- C#\n",
    "- C++\n",
    "- Go\n",
    "- Java\n",
    "- JavaScript\n",
    "- Kotlin\n",
    "- Objective-C\n",
    "- PHP\n",
    "- Python\n",
    "- Ruby\n",
    "- Swift\n",
    "- TypeScript"
   ]
  },
  {
   "cell_type": "code",
   "execution_count": 1,
   "metadata": {
    "id": "JiKcOkOPCwH2"
   },
   "outputs": [],
   "source": [
    "import os\n",
    "\n",
    "%load_ext autoreload\n",
    "%autoreload 2\n",
    "import pandas as pd\n",
    "from tqdm import tqdm\n",
    "\n",
    "pd.options.display.float_format = \"{:.2f}\".format\n",
    "\n",
    "os.chdir(\"D:\\stuff\\github_data\")"
   ]
  },
  {
   "cell_type": "markdown",
   "metadata": {
    "id": "RIQaZjccCwH3"
   },
   "source": [
    "We set following filters at [GitHub Search](https://seart-ghs.si.usi.ch/):\n",
    "* **50+** stars\n",
    "* **1000+** commits\n",
    "* **10+** contributors\n",
    "* Created before **15 September 2019** (2+ years ago)\n",
    "* Exclude Forks\n",
    "* Has License"
   ]
  },
  {
   "cell_type": "code",
   "execution_count": 2,
   "metadata": {
    "id": "MiP1uImSCwH3",
    "pycharm": {
     "name": "#%%\n"
    }
   },
   "outputs": [
    {
     "data": {
      "text/plain": [
       "(18556, 27)"
      ]
     },
     "execution_count": 2,
     "metadata": {},
     "output_type": "execute_result"
    }
   ],
   "source": [
    "ghs_df = pd.read_csv(\"ghs_results.csv\")\n",
    "ghs_df.shape"
   ]
  },
  {
   "cell_type": "code",
   "execution_count": 3,
   "metadata": {
    "pycharm": {
     "name": "#%%\n"
    }
   },
   "outputs": [
    {
     "data": {
      "text/html": [
       "<div>\n",
       "<style scoped>\n",
       "    .dataframe tbody tr th:only-of-type {\n",
       "        vertical-align: middle;\n",
       "    }\n",
       "\n",
       "    .dataframe tbody tr th {\n",
       "        vertical-align: top;\n",
       "    }\n",
       "\n",
       "    .dataframe thead th {\n",
       "        text-align: right;\n",
       "    }\n",
       "</style>\n",
       "<table border=\"1\" class=\"dataframe\">\n",
       "  <thead>\n",
       "    <tr style=\"text-align: right;\">\n",
       "      <th></th>\n",
       "      <th>Name</th>\n",
       "      <th>Is Fork</th>\n",
       "      <th>Commits</th>\n",
       "      <th>Branches</th>\n",
       "      <th>Default Branch</th>\n",
       "      <th>Releases</th>\n",
       "      <th>Contributors</th>\n",
       "      <th>License</th>\n",
       "      <th>Watchers</th>\n",
       "      <th>Stargazers</th>\n",
       "      <th>...</th>\n",
       "      <th>Total Issues</th>\n",
       "      <th>Open Issues</th>\n",
       "      <th>Total Pull Requests</th>\n",
       "      <th>Open Pull Requests</th>\n",
       "      <th>Last Commit</th>\n",
       "      <th>Last Commit SHA</th>\n",
       "      <th>Has Wiki</th>\n",
       "      <th>Is Archived</th>\n",
       "      <th>Languages</th>\n",
       "      <th>Labels</th>\n",
       "    </tr>\n",
       "  </thead>\n",
       "  <tbody>\n",
       "    <tr>\n",
       "      <th>0</th>\n",
       "      <td>0intro/wmii</td>\n",
       "      <td>False</td>\n",
       "      <td>2822</td>\n",
       "      <td>1</td>\n",
       "      <td>master</td>\n",
       "      <td>0</td>\n",
       "      <td>13</td>\n",
       "      <td>Other</td>\n",
       "      <td>4</td>\n",
       "      <td>50</td>\n",
       "      <td>...</td>\n",
       "      <td>1.00</td>\n",
       "      <td>0.00</td>\n",
       "      <td>0.00</td>\n",
       "      <td>0.00</td>\n",
       "      <td>2021-03-23 00:00:00.0</td>\n",
       "      <td>c86f646bf034199288c09d161edcc8acbcd7fe53</td>\n",
       "      <td>True</td>\n",
       "      <td>False</td>\n",
       "      <td>C,Python,Shell,Roff,Makefile,Ruby,Limbo,PostSc...</td>\n",
       "      <td>bug,duplicate,enhancement,help wanted,invalid,...</td>\n",
       "    </tr>\n",
       "    <tr>\n",
       "      <th>1</th>\n",
       "      <td>0xced/xcdyoutubekit</td>\n",
       "      <td>False</td>\n",
       "      <td>1470</td>\n",
       "      <td>14</td>\n",
       "      <td>master</td>\n",
       "      <td>53</td>\n",
       "      <td>15</td>\n",
       "      <td>MIT License</td>\n",
       "      <td>125</td>\n",
       "      <td>2828</td>\n",
       "      <td>...</td>\n",
       "      <td>487.00</td>\n",
       "      <td>35.00</td>\n",
       "      <td>62.00</td>\n",
       "      <td>10.00</td>\n",
       "      <td>2020-12-08 20:25:23.0</td>\n",
       "      <td>23f765941b36d6d28215ab81a37af1039d29138b</td>\n",
       "      <td>False</td>\n",
       "      <td>False</td>\n",
       "      <td>Objective-C,Swift,Makefile,Shell,Ruby,Python</td>\n",
       "      <td>feature,need-help,investigating,could not repr...</td>\n",
       "    </tr>\n",
       "    <tr>\n",
       "      <th>2</th>\n",
       "      <td>0xcert/framework</td>\n",
       "      <td>False</td>\n",
       "      <td>2667</td>\n",
       "      <td>4</td>\n",
       "      <td>master</td>\n",
       "      <td>10</td>\n",
       "      <td>13</td>\n",
       "      <td>MIT License</td>\n",
       "      <td>25</td>\n",
       "      <td>262</td>\n",
       "      <td>...</td>\n",
       "      <td>110.00</td>\n",
       "      <td>5.00</td>\n",
       "      <td>604.00</td>\n",
       "      <td>0.00</td>\n",
       "      <td>2021-08-19 08:25:55.0</td>\n",
       "      <td>80d393ff0627574a2bf089c92235af0adcad094c</td>\n",
       "      <td>True</td>\n",
       "      <td>False</td>\n",
       "      <td>TypeScript,Solidity,JavaScript,Vue,Shell,HTML</td>\n",
       "      <td>breaking change,bug,community,discussion,do no...</td>\n",
       "    </tr>\n",
       "    <tr>\n",
       "      <th>3</th>\n",
       "      <td>0xd34df00d/leechcraft</td>\n",
       "      <td>False</td>\n",
       "      <td>36227</td>\n",
       "      <td>1</td>\n",
       "      <td>master</td>\n",
       "      <td>0</td>\n",
       "      <td>38</td>\n",
       "      <td>Boost Software License 1.0</td>\n",
       "      <td>24</td>\n",
       "      <td>180</td>\n",
       "      <td>...</td>\n",
       "      <td>0.00</td>\n",
       "      <td>0.00</td>\n",
       "      <td>349.00</td>\n",
       "      <td>0.00</td>\n",
       "      <td>2021-09-06 17:51:19.0</td>\n",
       "      <td>c0c76a0e0e1d30b88d7602cdc92a525694740cea</td>\n",
       "      <td>False</td>\n",
       "      <td>False</td>\n",
       "      <td>C++,QML,CMake,HTML,Objective-C++,CSS,JavaScrip...</td>\n",
       "      <td>NaN</td>\n",
       "    </tr>\n",
       "    <tr>\n",
       "      <th>4</th>\n",
       "      <td>0xd4d/dnlib</td>\n",
       "      <td>False</td>\n",
       "      <td>1981</td>\n",
       "      <td>1</td>\n",
       "      <td>master</td>\n",
       "      <td>0</td>\n",
       "      <td>15</td>\n",
       "      <td>MIT License</td>\n",
       "      <td>106</td>\n",
       "      <td>1331</td>\n",
       "      <td>...</td>\n",
       "      <td>0.00</td>\n",
       "      <td>0.00</td>\n",
       "      <td>53.00</td>\n",
       "      <td>0.00</td>\n",
       "      <td>2021-08-30 17:55:25.0</td>\n",
       "      <td>8b143447a4dac36dfa02249f8a32136d19d049a4</td>\n",
       "      <td>False</td>\n",
       "      <td>False</td>\n",
       "      <td>C#,PowerShell</td>\n",
       "      <td>bug,duplicate,enhancement,help wanted,invalid,...</td>\n",
       "    </tr>\n",
       "  </tbody>\n",
       "</table>\n",
       "<p>5 rows × 27 columns</p>\n",
       "</div>"
      ],
      "text/plain": [
       "                    Name  Is Fork  Commits  Branches Default Branch  Releases  \\\n",
       "0            0intro/wmii    False     2822         1         master         0   \n",
       "1    0xced/xcdyoutubekit    False     1470        14         master        53   \n",
       "2       0xcert/framework    False     2667         4         master        10   \n",
       "3  0xd34df00d/leechcraft    False    36227         1         master         0   \n",
       "4            0xd4d/dnlib    False     1981         1         master         0   \n",
       "\n",
       "   Contributors                     License  Watchers  Stargazers  ...  \\\n",
       "0            13                       Other         4          50  ...   \n",
       "1            15                 MIT License       125        2828  ...   \n",
       "2            13                 MIT License        25         262  ...   \n",
       "3            38  Boost Software License 1.0        24         180  ...   \n",
       "4            15                 MIT License       106        1331  ...   \n",
       "\n",
       "   Total Issues  Open Issues Total Pull Requests Open Pull Requests  \\\n",
       "0          1.00         0.00                0.00               0.00   \n",
       "1        487.00        35.00               62.00              10.00   \n",
       "2        110.00         5.00              604.00               0.00   \n",
       "3          0.00         0.00              349.00               0.00   \n",
       "4          0.00         0.00               53.00               0.00   \n",
       "\n",
       "             Last Commit                           Last Commit SHA Has Wiki  \\\n",
       "0  2021-03-23 00:00:00.0  c86f646bf034199288c09d161edcc8acbcd7fe53     True   \n",
       "1  2020-12-08 20:25:23.0  23f765941b36d6d28215ab81a37af1039d29138b    False   \n",
       "2  2021-08-19 08:25:55.0  80d393ff0627574a2bf089c92235af0adcad094c     True   \n",
       "3  2021-09-06 17:51:19.0  c0c76a0e0e1d30b88d7602cdc92a525694740cea    False   \n",
       "4  2021-08-30 17:55:25.0  8b143447a4dac36dfa02249f8a32136d19d049a4    False   \n",
       "\n",
       "   Is Archived                                          Languages  \\\n",
       "0        False  C,Python,Shell,Roff,Makefile,Ruby,Limbo,PostSc...   \n",
       "1        False       Objective-C,Swift,Makefile,Shell,Ruby,Python   \n",
       "2        False      TypeScript,Solidity,JavaScript,Vue,Shell,HTML   \n",
       "3        False  C++,QML,CMake,HTML,Objective-C++,CSS,JavaScrip...   \n",
       "4        False                                      C#,PowerShell   \n",
       "\n",
       "                                              Labels  \n",
       "0  bug,duplicate,enhancement,help wanted,invalid,...  \n",
       "1  feature,need-help,investigating,could not repr...  \n",
       "2  breaking change,bug,community,discussion,do no...  \n",
       "3                                                NaN  \n",
       "4  bug,duplicate,enhancement,help wanted,invalid,...  \n",
       "\n",
       "[5 rows x 27 columns]"
      ]
     },
     "execution_count": 3,
     "metadata": {},
     "output_type": "execute_result"
    }
   ],
   "source": [
    "ghs_df.head()"
   ]
  },
  {
   "cell_type": "markdown",
   "metadata": {
    "id": "p1OqaKdWCwH4"
   },
   "source": [
    "Next, we collect additional information about these repos via official GitHub API."
   ]
  },
  {
   "cell_type": "code",
   "execution_count": 11,
   "metadata": {
    "id": "SVm4hM9OCwH4"
   },
   "outputs": [],
   "source": [
    "from github import Github\n",
    "from github.GithubException import RateLimitExceededException, UnknownObjectException, GithubException\n",
    "\n",
    "# using an access token\n",
    "with open(\"access_token.txt\") as file:\n",
    "    access_token = file.readline().strip()\n",
    "\n",
    "g = Github(access_token)"
   ]
  },
  {
   "cell_type": "code",
   "execution_count": 16,
   "metadata": {
    "id": "hdz18OVeCwH4",
    "outputId": "c9f5644c-1e56-442b-ec41-e570e700cf37"
   },
   "outputs": [
    {
     "name": "stderr",
     "output_type": "stream",
     "text": [
      "  8%|██████                                                                         | 538/7004 [02:03<21:48,  4.94it/s]"
     ]
    },
    {
     "name": "stdout",
     "output_type": "stream",
     "text": [
      "Unknown object exception with repo openroberta/robertalab\n"
     ]
    },
    {
     "name": "stderr",
     "output_type": "stream",
     "text": [
      " 11%|████████▉                                                                      | 791/7004 [02:59<21:00,  4.93it/s]"
     ]
    },
    {
     "name": "stdout",
     "output_type": "stream",
     "text": [
      "Unknown object exception with repo optimizely/oui\n"
     ]
    },
    {
     "name": "stderr",
     "output_type": "stream",
     "text": [
      " 12%|█████████▍                                                                     | 841/7004 [03:10<20:35,  4.99it/s]"
     ]
    },
    {
     "name": "stdout",
     "output_type": "stream",
     "text": [
      "Unknown object exception with repo original-male/non\n"
     ]
    },
    {
     "name": "stderr",
     "output_type": "stream",
     "text": [
      " 20%|███████████████▋                                                              | 1414/7004 [05:17<18:35,  5.01it/s]"
     ]
    },
    {
     "name": "stdout",
     "output_type": "stream",
     "text": [
      "Unknown object exception with repo planetfederal/geogig\n"
     ]
    },
    {
     "name": "stderr",
     "output_type": "stream",
     "text": [
      " 23%|██████████████████                                                            | 1622/7004 [06:03<17:56,  5.00it/s]"
     ]
    },
    {
     "name": "stdout",
     "output_type": "stream",
     "text": [
      "Unknown object exception with repo practicalswift/swift-compiler-crashes\n"
     ]
    },
    {
     "name": "stderr",
     "output_type": "stream",
     "text": [
      " 33%|█████████████████████████▍                                                    | 2281/7004 [08:29<15:12,  5.18it/s]"
     ]
    },
    {
     "name": "stdout",
     "output_type": "stream",
     "text": [
      "Unknown object exception with repo radareorg/radare2-regressions\n"
     ]
    },
    {
     "name": "stderr",
     "output_type": "stream",
     "text": [
      " 42%|████████████████████████████████▍                                             | 2914/7004 [10:52<13:47,  4.94it/s]"
     ]
    },
    {
     "name": "stdout",
     "output_type": "stream",
     "text": [
      "Unknown object exception with repo rozofs/rozofs\n"
     ]
    },
    {
     "name": "stderr",
     "output_type": "stream",
     "text": [
      " 45%|███████████████████████████████████▎                                          | 3171/7004 [11:51<16:01,  3.99it/s]"
     ]
    },
    {
     "name": "stdout",
     "output_type": "stream",
     "text": [
      "2021-09-15 17:40:18.195056 Rate Limit exceeded! Sleeping for 30 minutes\n"
     ]
    },
    {
     "name": "stderr",
     "output_type": "stream",
     "text": [
      " 62%|████████████████████████████████████████████████▌                             | 4366/7004 [46:38<09:28,  4.64it/s]"
     ]
    },
    {
     "name": "stdout",
     "output_type": "stream",
     "text": [
      "Unknown object exception with repo streamsets/datacollector\n"
     ]
    },
    {
     "name": "stderr",
     "output_type": "stream",
     "text": [
      " 66%|███████████████████████████████████████████████████▊                          | 4648/7004 [47:47<07:53,  4.97it/s]"
     ]
    },
    {
     "name": "stdout",
     "output_type": "stream",
     "text": [
      "Unknown object exception with repo t0rakka/mango\n"
     ]
    },
    {
     "name": "stderr",
     "output_type": "stream",
     "text": [
      " 74%|█████████████████████████████████████████████████████████▍                    | 5152/7004 [49:36<06:48,  4.53it/s]"
     ]
    },
    {
     "name": "stdout",
     "output_type": "stream",
     "text": [
      "Unknown object exception with repo toggl/mobileapp\n"
     ]
    },
    {
     "name": "stderr",
     "output_type": "stream",
     "text": [
      " 75%|██████████████████████████████████████████████████████████▍                   | 5242/7004 [49:56<06:07,  4.79it/s]"
     ]
    },
    {
     "name": "stdout",
     "output_type": "stream",
     "text": [
      "Unknown object exception with repo trailofbits/osql\n"
     ]
    },
    {
     "name": "stderr",
     "output_type": "stream",
     "text": [
      " 83%|████████████████████████████████████████████████████████████████▋             | 5806/7004 [52:01<03:55,  5.08it/s]"
     ]
    },
    {
     "name": "stdout",
     "output_type": "stream",
     "text": [
      "Unknown object exception with repo vercel/docs\n"
     ]
    },
    {
     "name": "stderr",
     "output_type": "stream",
     "text": [
      " 91%|██████████████████████████████████████████████████████████████████████▌       | 6339/7004 [53:57<02:13,  4.99it/s]"
     ]
    },
    {
     "name": "stdout",
     "output_type": "stream",
     "text": [
      "Unknown object exception with repo wix/wix-style-react\n"
     ]
    },
    {
     "name": "stderr",
     "output_type": "stream",
     "text": [
      " 97%|███████████████████████████████████████████████████████████████████████████▍  | 6779/7004 [55:35<00:51,  4.33it/s]"
     ]
    },
    {
     "name": "stdout",
     "output_type": "stream",
     "text": [
      "Unknown object exception with repo yuzu-emu/yuzu-canary\n"
     ]
    },
    {
     "name": "stderr",
     "output_type": "stream",
     "text": [
      " 97%|███████████████████████████████████████████████████████████████████████████▌  | 6781/7004 [55:35<00:46,  4.79it/s]"
     ]
    },
    {
     "name": "stdout",
     "output_type": "stream",
     "text": [
      "Unknown object exception with repo yuzu-emu/yuzu-nightly\n"
     ]
    },
    {
     "name": "stderr",
     "output_type": "stream",
     "text": [
      "100%|██████████████████████████████████████████████████████████████████████████████| 7004/7004 [56:22<00:00,  2.07it/s]\n"
     ]
    }
   ],
   "source": [
    "import calendar\n",
    "import time\n",
    "import datetime\n",
    "\n",
    "\n",
    "for name in tqdm(ghs_df[\"Name\"][11552:]):\n",
    "    try:\n",
    "        repos.append(g.get_repo(name))\n",
    "    except RateLimitExceededException:\n",
    "        core_rate_limit = g.get_rate_limit().core\n",
    "        reset_timestamp = calendar.timegm(core_rate_limit.reset.timetuple())\n",
    "        sleep_time = reset_timestamp - calendar.timegm(time.gmtime()) + 5\n",
    "        print(f\"{datetime.datetime.now()} Rate Limit exceeded! Sleeping for {sleep_time // 60} minutes\")\n",
    "        time.sleep(sleep_time)\n",
    "        repos.append(g.get_repo(name))\n",
    "    except UnknownObjectException:\n",
    "        print(f\"Unknown object exception with repo {name}\")\n",
    "        repos.append(-1)\n",
    "    except GithubException:\n",
    "        print(f\"GitHub exception with repo {name}\")\n",
    "        repos.append(-1)"
   ]
  },
  {
   "cell_type": "code",
   "execution_count": 17,
   "metadata": {
    "id": "sHY__9GsCwH5"
   },
   "outputs": [
    {
     "name": "stderr",
     "output_type": "stream",
     "text": [
      "100%|████████████████████████████████████████████████████████████████████████| 18556/18556 [00:00<00:00, 164058.13it/s]\n"
     ]
    }
   ],
   "source": [
    "full_names = []\n",
    "git_urls = []\n",
    "languages = []\n",
    "\n",
    "for repo in tqdm(repos):\n",
    "    try:\n",
    "        full_names.append(repo.full_name)\n",
    "        git_urls.append(repo.git_url)\n",
    "        languages.append(repo.language)\n",
    "    except:\n",
    "        full_names.append(\"\")\n",
    "        git_urls.append(\"\")\n",
    "        languages.append(\"null\")"
   ]
  },
  {
   "cell_type": "code",
   "execution_count": 46,
   "metadata": {
    "id": "tNBUrV7vCwH6"
   },
   "outputs": [],
   "source": [
    "ghs_df[\"full_name\"] = full_names\n",
    "ghs_df[\"git_url\"] = git_urls\n",
    "ghs_df[\"git_url\"] = ghs_df[\"git_url\"].apply(lambda x: \"https\" + x[3:])\n",
    "ghs_df[\"Language\"] = languages"
   ]
  },
  {
   "cell_type": "code",
   "execution_count": 47,
   "metadata": {
    "id": "6aTHYRvcCwH6",
    "outputId": "858250c7-e0fe-406c-bf11-72c53f57ad86"
   },
   "outputs": [
    {
     "data": {
      "text/plain": [
       "array(['Other', 'MIT License', 'Boost Software License 1.0',\n",
       "       'Apache License 2.0', 'GNU Affero General Public License v3.0',\n",
       "       'GNU General Public License v2.0',\n",
       "       'GNU General Public License v3.0',\n",
       "       'BSD 3-Clause New or Revised License',\n",
       "       'Creative Commons Zero v1.0 Universal',\n",
       "       'Mozilla Public License 2.0', 'Open Software License 3.0',\n",
       "       'GNU Lesser General Public License v2.1',\n",
       "       'GNU Lesser General Public License v3.0',\n",
       "       'Creative Commons Attribution 4.0 International', 'ISC License',\n",
       "       'Eclipse Public License 2.0', 'BSD 2-Clause Simplified License',\n",
       "       'Educational Community License v2.0',\n",
       "       'European Union Public License 1.1', 'Eclipse Public License 1.0',\n",
       "       'zlib License', 'Academic Free License v3.0', 'MIT No Attribution',\n",
       "       'SIL Open Font License 1.1', 'Artistic License 2.0',\n",
       "       'The Unlicense', 'BSD 4-Clause Original or Old License',\n",
       "       'PostgreSQL License',\n",
       "       'Creative Commons Attribution Share Alike 4.0 International',\n",
       "       'Microsoft Public License', 'BSD Zero Clause License',\n",
       "       'BSD 3-Clause Clear License',\n",
       "       'University of Illinois/NCSA Open Source License',\n",
       "       'Do What The F*ck You Want To Public License',\n",
       "       'Universal Permissive License v1.0',\n",
       "       'European Union Public License 1.2',\n",
       "       'ODC Open Database License v1.0'], dtype=object)"
      ]
     },
     "execution_count": 47,
     "metadata": {},
     "output_type": "execute_result"
    }
   ],
   "source": [
    "ghs_df[\"License\"].unique()"
   ]
  },
  {
   "cell_type": "code",
   "execution_count": 48,
   "metadata": {},
   "outputs": [
    {
     "data": {
      "text/plain": [
       "array(['C', 'Objective-C', 'TypeScript', 'C++', 'C#', 'Go', 'JavaScript',\n",
       "       'PHP', 'Python', 'Ruby', 'Java', 'null', 'Swift', 'SQF', 'Kotlin',\n",
       "       'CSS', 'Groovy', None, 'HTML', 'Jupyter Notebook', 'Boogie',\n",
       "       'Common Workflow Language', 'Rust', 'Smarty', 'Batchfile', 'Shell',\n",
       "       'PowerShell', 'Lua', 'Cython', 'Vala', 'Svelte', 'Standard ML',\n",
       "       'Haskell', 'SCSS', 'D', 'POV-Ray SDL', 'Emacs Lisp', 'Makefile',\n",
       "       'Markdown', 'CMake', 'CoffeeScript', 'Vue', 'FreeMarker', 'VHDL',\n",
       "       'Stylus', 'PowerBuilder', 'Odin', 'Gherkin', 'PLpgSQL', 'Scala',\n",
       "       'TeX', 'Cuda', 'R', 'GLSL', 'Assembly', 'Puppet', 'Vim script',\n",
       "       'Objective-C++', 'LLVM', 'WebAssembly'], dtype=object)"
      ]
     },
     "execution_count": 48,
     "metadata": {},
     "output_type": "execute_result"
    }
   ],
   "source": [
    "ghs_df[\"Language\"].unique()"
   ]
  },
  {
   "cell_type": "markdown",
   "metadata": {
    "id": "hfZzkMmNCwH7"
   },
   "source": [
    "Next filtering steps:\n",
    "\n",
    "1. Only keep repositories with Apache License 2.0, MIT License, BSD 3-Clause New or Revised License\n",
    "2. Drop duplicates by `full_name` property (which might appear due to renaming/transferring/mirroring repositories)"
   ]
  },
  {
   "cell_type": "code",
   "execution_count": 49,
   "metadata": {
    "id": "-Ty5R8X6CwH7",
    "outputId": "551b1fdc-c050-4c3a-95d4-a5a365160ed3"
   },
   "outputs": [
    {
     "name": "stdout",
     "output_type": "stream",
     "text": [
      "After dropping repos without Apache/MIT/BSD licences: 8751, diff with previous step: 9805\n",
      "After dropping full_name duplicates: 8606, diff with previous step: 145\n"
     ]
    }
   ],
   "source": [
    "# keep repos only with Apache / MIT / BSD license\n",
    "res_df = ghs_df.loc[\n",
    "    ghs_df[\"License\"].isin([\"Apache License 2.0\", \"MIT License\", \"BSD 3-Clause New or Revised License\"])\n",
    "]\n",
    "print(\n",
    "    f\"After dropping repos without Apache/MIT/BSD licences: {len(res_df)}, diff with previous step: {len(ghs_df) - len(res_df)}\"\n",
    ")\n",
    "prev_len = len(res_df)\n",
    "\n",
    "# drop duplicate repos\n",
    "res_df = res_df.drop_duplicates(subset=[\"full_name\"])\n",
    "print(f\"After dropping full_name duplicates: {len(res_df)}, diff with previous step: {prev_len - len(res_df)}\")\n",
    "\n",
    "res_df = res_df.sort_values(by=\"Stargazers\", ascending=False)"
   ]
  },
  {
   "cell_type": "code",
   "execution_count": 50,
   "metadata": {
    "id": "Q0w35617CwH8",
    "outputId": "91b88d8b-3a21-496a-f4dd-7e66e39cd1a1"
   },
   "outputs": [
    {
     "data": {
      "text/html": [
       "<div>\n",
       "<style scoped>\n",
       "    .dataframe tbody tr th:only-of-type {\n",
       "        vertical-align: middle;\n",
       "    }\n",
       "\n",
       "    .dataframe tbody tr th {\n",
       "        vertical-align: top;\n",
       "    }\n",
       "\n",
       "    .dataframe thead th {\n",
       "        text-align: right;\n",
       "    }\n",
       "</style>\n",
       "<table border=\"1\" class=\"dataframe\">\n",
       "  <thead>\n",
       "    <tr style=\"text-align: right;\">\n",
       "      <th></th>\n",
       "      <th>Name</th>\n",
       "      <th>Is Fork</th>\n",
       "      <th>Commits</th>\n",
       "      <th>Branches</th>\n",
       "      <th>Default Branch</th>\n",
       "      <th>Releases</th>\n",
       "      <th>Contributors</th>\n",
       "      <th>License</th>\n",
       "      <th>Watchers</th>\n",
       "      <th>Stargazers</th>\n",
       "      <th>...</th>\n",
       "      <th>Open Pull Requests</th>\n",
       "      <th>Last Commit</th>\n",
       "      <th>Last Commit SHA</th>\n",
       "      <th>Has Wiki</th>\n",
       "      <th>Is Archived</th>\n",
       "      <th>Languages</th>\n",
       "      <th>Labels</th>\n",
       "      <th>full_name</th>\n",
       "      <th>git_url</th>\n",
       "      <th>Language</th>\n",
       "    </tr>\n",
       "  </thead>\n",
       "  <tbody>\n",
       "    <tr>\n",
       "      <th>5615</th>\n",
       "      <td>freecodecamp/freecodecamp</td>\n",
       "      <td>False</td>\n",
       "      <td>27245</td>\n",
       "      <td>5</td>\n",
       "      <td>main</td>\n",
       "      <td>0</td>\n",
       "      <td>410</td>\n",
       "      <td>BSD 3-Clause New or Revised License</td>\n",
       "      <td>8428</td>\n",
       "      <td>321889</td>\n",
       "      <td>...</td>\n",
       "      <td>22.00</td>\n",
       "      <td>2021-03-21 16:58:20.0</td>\n",
       "      <td>7215a6fa77fdedc4ebba2eb3723216d6b978e0bb</td>\n",
       "      <td>False</td>\n",
       "      <td>False</td>\n",
       "      <td>JavaScript,CSS,Shell,HTML,EJS,Less</td>\n",
       "      <td>crowdin-sync,first timers only,help wanted,inv...</td>\n",
       "      <td>freeCodeCamp/freeCodeCamp</td>\n",
       "      <td>https://github.com/freeCodeCamp/freeCodeCamp.git</td>\n",
       "      <td>JavaScript</td>\n",
       "    </tr>\n",
       "    <tr>\n",
       "      <th>17582</th>\n",
       "      <td>vuejs/vue</td>\n",
       "      <td>False</td>\n",
       "      <td>3200</td>\n",
       "      <td>69</td>\n",
       "      <td>dev</td>\n",
       "      <td>210</td>\n",
       "      <td>316</td>\n",
       "      <td>MIT License</td>\n",
       "      <td>6230</td>\n",
       "      <td>187796</td>\n",
       "      <td>...</td>\n",
       "      <td>210.00</td>\n",
       "      <td>2021-09-04 14:12:51.0</td>\n",
       "      <td>4f6f39a26cfc0d78d6b09fd6d3802d45aabb758e</td>\n",
       "      <td>True</td>\n",
       "      <td>False</td>\n",
       "      <td>JavaScript,TypeScript,HTML,Vue,CSS,Shell</td>\n",
       "      <td>1.x,backlog,browser quirks,bug,contribution we...</td>\n",
       "      <td>vuejs/vue</td>\n",
       "      <td>https://github.com/vuejs/vue.git</td>\n",
       "      <td>JavaScript</td>\n",
       "    </tr>\n",
       "    <tr>\n",
       "      <th>5127</th>\n",
       "      <td>facebook/react</td>\n",
       "      <td>False</td>\n",
       "      <td>14294</td>\n",
       "      <td>110</td>\n",
       "      <td>main</td>\n",
       "      <td>96</td>\n",
       "      <td>431</td>\n",
       "      <td>MIT License</td>\n",
       "      <td>6719</td>\n",
       "      <td>171203</td>\n",
       "      <td>...</td>\n",
       "      <td>197.00</td>\n",
       "      <td>2021-07-10 22:02:00.0</td>\n",
       "      <td>0f09f14ae60cfca996c15fc50eeb59447c19a7be</td>\n",
       "      <td>True</td>\n",
       "      <td>False</td>\n",
       "      <td>JavaScript,HTML,CSS,C++,TypeScript,CoffeeScrip...</td>\n",
       "      <td>Browser: IE,Browser: Safari,CLA Signed,Compone...</td>\n",
       "      <td>facebook/react</td>\n",
       "      <td>https://github.com/facebook/react.git</td>\n",
       "      <td>JavaScript</td>\n",
       "    </tr>\n",
       "    <tr>\n",
       "      <th>16384</th>\n",
       "      <td>tensorflow/tensorflow</td>\n",
       "      <td>False</td>\n",
       "      <td>113242</td>\n",
       "      <td>49</td>\n",
       "      <td>master</td>\n",
       "      <td>138</td>\n",
       "      <td>402</td>\n",
       "      <td>Apache License 2.0</td>\n",
       "      <td>8100</td>\n",
       "      <td>156951</td>\n",
       "      <td>...</td>\n",
       "      <td>173.00</td>\n",
       "      <td>2021-06-27 09:13:07.0</td>\n",
       "      <td>1df058b0a4af8c5673251e27a57af320d7b1d29d</td>\n",
       "      <td>False</td>\n",
       "      <td>False</td>\n",
       "      <td>C++,Python,MLIR,Starlark,HTML,Go,C,Jupyter Not...</td>\n",
       "      <td>API review,Fixed in Nightly,ModelOptimizationT...</td>\n",
       "      <td>tensorflow/tensorflow</td>\n",
       "      <td>https://github.com/tensorflow/tensorflow.git</td>\n",
       "      <td>C++</td>\n",
       "    </tr>\n",
       "    <tr>\n",
       "      <th>13395</th>\n",
       "      <td>public-apis/public-apis</td>\n",
       "      <td>False</td>\n",
       "      <td>3193</td>\n",
       "      <td>1</td>\n",
       "      <td>master</td>\n",
       "      <td>0</td>\n",
       "      <td>437</td>\n",
       "      <td>MIT License</td>\n",
       "      <td>3480</td>\n",
       "      <td>156393</td>\n",
       "      <td>...</td>\n",
       "      <td>39.00</td>\n",
       "      <td>2021-09-11 04:26:13.0</td>\n",
       "      <td>e115e1845832902d8ec10c428e441898c1a748cd</td>\n",
       "      <td>False</td>\n",
       "      <td>False</td>\n",
       "      <td>Python,Shell</td>\n",
       "      <td>alphabetical ordering is required,Awaiting bui...</td>\n",
       "      <td>public-apis/public-apis</td>\n",
       "      <td>https://github.com/public-apis/public-apis.git</td>\n",
       "      <td>Python</td>\n",
       "    </tr>\n",
       "  </tbody>\n",
       "</table>\n",
       "<p>5 rows × 30 columns</p>\n",
       "</div>"
      ],
      "text/plain": [
       "                            Name  Is Fork  Commits  Branches Default Branch  \\\n",
       "5615   freecodecamp/freecodecamp    False    27245         5           main   \n",
       "17582                  vuejs/vue    False     3200        69            dev   \n",
       "5127              facebook/react    False    14294       110           main   \n",
       "16384      tensorflow/tensorflow    False   113242        49         master   \n",
       "13395    public-apis/public-apis    False     3193         1         master   \n",
       "\n",
       "       Releases  Contributors                              License  Watchers  \\\n",
       "5615          0           410  BSD 3-Clause New or Revised License      8428   \n",
       "17582       210           316                          MIT License      6230   \n",
       "5127         96           431                          MIT License      6719   \n",
       "16384       138           402                   Apache License 2.0      8100   \n",
       "13395         0           437                          MIT License      3480   \n",
       "\n",
       "       Stargazers  ...  Open Pull Requests            Last Commit  \\\n",
       "5615       321889  ...               22.00  2021-03-21 16:58:20.0   \n",
       "17582      187796  ...              210.00  2021-09-04 14:12:51.0   \n",
       "5127       171203  ...              197.00  2021-07-10 22:02:00.0   \n",
       "16384      156951  ...              173.00  2021-06-27 09:13:07.0   \n",
       "13395      156393  ...               39.00  2021-09-11 04:26:13.0   \n",
       "\n",
       "                                Last Commit SHA Has Wiki Is Archived  \\\n",
       "5615   7215a6fa77fdedc4ebba2eb3723216d6b978e0bb    False       False   \n",
       "17582  4f6f39a26cfc0d78d6b09fd6d3802d45aabb758e     True       False   \n",
       "5127   0f09f14ae60cfca996c15fc50eeb59447c19a7be     True       False   \n",
       "16384  1df058b0a4af8c5673251e27a57af320d7b1d29d    False       False   \n",
       "13395  e115e1845832902d8ec10c428e441898c1a748cd    False       False   \n",
       "\n",
       "                                               Languages  \\\n",
       "5615                  JavaScript,CSS,Shell,HTML,EJS,Less   \n",
       "17582           JavaScript,TypeScript,HTML,Vue,CSS,Shell   \n",
       "5127   JavaScript,HTML,CSS,C++,TypeScript,CoffeeScrip...   \n",
       "16384  C++,Python,MLIR,Starlark,HTML,Go,C,Jupyter Not...   \n",
       "13395                                       Python,Shell   \n",
       "\n",
       "                                                  Labels  \\\n",
       "5615   crowdin-sync,first timers only,help wanted,inv...   \n",
       "17582  1.x,backlog,browser quirks,bug,contribution we...   \n",
       "5127   Browser: IE,Browser: Safari,CLA Signed,Compone...   \n",
       "16384  API review,Fixed in Nightly,ModelOptimizationT...   \n",
       "13395  alphabetical ordering is required,Awaiting bui...   \n",
       "\n",
       "                       full_name  \\\n",
       "5615   freeCodeCamp/freeCodeCamp   \n",
       "17582                  vuejs/vue   \n",
       "5127              facebook/react   \n",
       "16384      tensorflow/tensorflow   \n",
       "13395    public-apis/public-apis   \n",
       "\n",
       "                                                git_url    Language  \n",
       "5615   https://github.com/freeCodeCamp/freeCodeCamp.git  JavaScript  \n",
       "17582                  https://github.com/vuejs/vue.git  JavaScript  \n",
       "5127              https://github.com/facebook/react.git  JavaScript  \n",
       "16384      https://github.com/tensorflow/tensorflow.git         C++  \n",
       "13395    https://github.com/public-apis/public-apis.git      Python  \n",
       "\n",
       "[5 rows x 30 columns]"
      ]
     },
     "execution_count": 50,
     "metadata": {},
     "output_type": "execute_result"
    }
   ],
   "source": [
    "res_df.head()"
   ]
  },
  {
   "cell_type": "code",
   "execution_count": 60,
   "metadata": {},
   "outputs": [
    {
     "data": {
      "text/plain": [
       "Language\n",
       "Batchfile                      1\n",
       "TeX                            1\n",
       "Puppet                         1\n",
       "PowerShell                     1\n",
       "PowerBuilder                   1\n",
       "POV-Ray SDL                    1\n",
       "Odin                           1\n",
       "Groovy                         1\n",
       "Gherkin                        1\n",
       "GLSL                           1\n",
       "Lua                            1\n",
       "Cuda                           1\n",
       "Boogie                         1\n",
       "null                           1\n",
       "Common Workflow Language       1\n",
       "Svelte                         2\n",
       "Vue                            2\n",
       "CoffeeScript                   2\n",
       "Cython                         2\n",
       "Scala                          2\n",
       "SCSS                           2\n",
       "Rust                           3\n",
       "Jupyter Notebook               4\n",
       "Shell                          4\n",
       "CSS                            4\n",
       "HTML                          16\n",
       "Objective-C                   72\n",
       "Kotlin                       114\n",
       "Swift                        122\n",
       "C                            301\n",
       "PHP                          490\n",
       "C#                           503\n",
       "Ruby                         520\n",
       "C++                          620\n",
       "Go                           745\n",
       "TypeScript                   846\n",
       "Java                        1176\n",
       "Python                      1419\n",
       "JavaScript                  1612\n",
       "Name: Name, dtype: int64"
      ]
     },
     "execution_count": 60,
     "metadata": {},
     "output_type": "execute_result"
    }
   ],
   "source": [
    "res_df.groupby(\"Language\").count()[\"Name\"].sort_values()"
   ]
  },
  {
   "cell_type": "code",
   "execution_count": 59,
   "metadata": {},
   "outputs": [
    {
     "data": {
      "text/plain": [
       "Language\n",
       "Batchfile                      1152\n",
       "Gherkin                        1351\n",
       "PowerShell                     1444\n",
       "Puppet                         1636\n",
       "Common Workflow Language       1963\n",
       "GLSL                           1994\n",
       "null                           2333\n",
       "TeX                            2380\n",
       "Cython                         2629\n",
       "Groovy                         2675\n",
       "CoffeeScript                   2701\n",
       "Vue                            3499\n",
       "Svelte                         3749\n",
       "Odin                           4247\n",
       "Lua                            4473\n",
       "Scala                          4710\n",
       "Boogie                         5214\n",
       "Rust                           7235\n",
       "CSS                            8094\n",
       "SCSS                          11067\n",
       "POV-Ray SDL                   12342\n",
       "PowerBuilder                  12659\n",
       "Cuda                          14389\n",
       "Shell                         17688\n",
       "Jupyter Notebook              17962\n",
       "HTML                          67769\n",
       "Objective-C                  210231\n",
       "Kotlin                       317114\n",
       "Swift                        343819\n",
       "C                           1436772\n",
       "Ruby                        1568484\n",
       "C#                          1750478\n",
       "PHP                         1835736\n",
       "Go                          2554365\n",
       "TypeScript                  3051370\n",
       "C++                         4749968\n",
       "JavaScript                  5401586\n",
       "Java                        5424226\n",
       "Python                      5619311\n",
       "Name: Commits, dtype: int64"
      ]
     },
     "execution_count": 59,
     "metadata": {},
     "output_type": "execute_result"
    }
   ],
   "source": [
    "res_df.groupby(\"Language\").sum()[\"Commits\"].sort_values()"
   ]
  },
  {
   "cell_type": "code",
   "execution_count": 56,
   "metadata": {
    "id": "Uo8Bp7NmCwH8",
    "outputId": "d106e87b-5f92-405d-d28e-12b45f65a9a8"
   },
   "outputs": [
    {
     "name": "stdout",
     "output_type": "stream",
     "text": [
      "8606 repos and 34532637 commits\n"
     ]
    }
   ],
   "source": [
    "print(f\"{len(res_df)} repos and {res_df['Commits'].sum()} commits\")"
   ]
  },
  {
   "cell_type": "code",
   "execution_count": 57,
   "metadata": {
    "id": "XD1IBCRyCwH8",
    "pycharm": {
     "name": "#%%\n"
    }
   },
   "outputs": [],
   "source": [
    "res_df.to_csv(\"filtered_result.csv\")\n",
    "res_df[\"Name\"].to_csv(\"repos_names.txt\", index=None, header=None)\n",
    "res_df[\"git_url\"].to_csv(\"repos_urls.txt\", index=None, header=None)"
   ]
  }
 ],
 "metadata": {
  "colab": {
   "name": "choosing_repos.ipynb",
   "provenance": []
  },
  "kernelspec": {
   "display_name": "Python 3",
   "language": "python",
   "name": "python3"
  },
  "language_info": {
   "codemirror_mode": {
    "name": "ipython",
    "version": 3
   },
   "file_extension": ".py",
   "mimetype": "text/x-python",
   "name": "python",
   "nbconvert_exporter": "python",
   "pygments_lexer": "ipython3",
   "version": "3.8.10"
  }
 },
 "nbformat": 4,
 "nbformat_minor": 1
}