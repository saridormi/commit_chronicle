{
 "cells": [
  {
   "cell_type": "markdown",
   "metadata": {},
   "source": [
    "# Датасет после небольшой обработки"
   ]
  },
  {
   "cell_type": "code",
   "execution_count": 1,
   "metadata": {},
   "outputs": [],
   "source": [
    "import os\n",
    "import numpy as np\n",
    "from tqdm import tqdm\n",
    "%load_ext autoreload\n",
    "%autoreload 2\n",
    "\n",
    "os.chdir('D:\\github_data')\n",
    "\n",
    "commit_data_dir = 'preprocessed_data_short'\n",
    "os.makedirs(commit_data_dir, exist_ok=True)"
   ]
  },
  {
   "cell_type": "markdown",
   "metadata": {},
   "source": [
    "## Объединим данные со всех репозиториев в один DataFrame"
   ]
  },
  {
   "cell_type": "code",
   "execution_count": 2,
   "metadata": {},
   "outputs": [
    {
     "name": "stderr",
     "output_type": "stream",
     "text": [
      "100%|████████████████████████████████████████████████████████████████████████████████| 995/995 [02:14<00:00,  7.40it/s]\n"
     ]
    }
   ],
   "source": [
    "import pandas as pd\n",
    "pd.options.display.float_format = '{:.2f}'.format\n",
    "\n",
    "\n",
    "dfs = []\n",
    "large_files = []\n",
    "\n",
    "for filename in tqdm(os.listdir(commit_data_dir)):\n",
    "    try:\n",
    "        df = pd.read_json(os.path.join(commit_data_dir, filename), orient='records')\n",
    "        df['repo'] = filename.split('.json')[0].replace('_', '/')\n",
    "        dfs.append(df)\n",
    "    except ValueError:\n",
    "        print('ValueError with', filename)\n",
    "        large_files.append(filename)\n",
    "    except MemoryError:\n",
    "        print('MemoryError with', filename)\n",
    "        large_files.append(filename)"
   ]
  },
  {
   "cell_type": "code",
   "execution_count": 3,
   "metadata": {},
   "outputs": [
    {
     "data": {
      "text/html": [
       "<div>\n",
       "<style scoped>\n",
       "    .dataframe tbody tr th:only-of-type {\n",
       "        vertical-align: middle;\n",
       "    }\n",
       "\n",
       "    .dataframe tbody tr th {\n",
       "        vertical-align: top;\n",
       "    }\n",
       "\n",
       "    .dataframe thead th {\n",
       "        text-align: right;\n",
       "    }\n",
       "</style>\n",
       "<table border=\"1\" class=\"dataframe\">\n",
       "  <thead>\n",
       "    <tr style=\"text-align: right;\">\n",
       "      <th></th>\n",
       "      <th>author</th>\n",
       "      <th>date</th>\n",
       "      <th>message</th>\n",
       "      <th>diff</th>\n",
       "      <th>num_mods</th>\n",
       "      <th>diff_len</th>\n",
       "      <th>message_len</th>\n",
       "      <th>repo</th>\n",
       "    </tr>\n",
       "  </thead>\n",
       "  <tbody>\n",
       "    <tr>\n",
       "      <th>0</th>\n",
       "      <td>(Arnaud Barisain Monrose, DREAMTEAM69@gmail.com)</td>\n",
       "      <td>2010-06-24 22:59:02</td>\n",
       "      <td>Fixed 2 . 1 compatibility</td>\n",
       "      <td>[&lt;FILE&gt; . DS _ Store &lt;nl&gt; Binary files a / . D...</td>\n",
       "      <td>12</td>\n",
       "      <td>1106</td>\n",
       "      <td>5</td>\n",
       "      <td>abarisain/dmix</td>\n",
       "    </tr>\n",
       "    <tr>\n",
       "      <th>1</th>\n",
       "      <td>(Arnaud Barisain Monrose, DREAMTEAM69@gmail.com)</td>\n",
       "      <td>2010-06-25 00:20:53</td>\n",
       "      <td>Cleaned up debugging things</td>\n",
       "      <td>[&lt;FILE&gt; MPDroid / src / com / arkanta / mpdroi...</td>\n",
       "      <td>1</td>\n",
       "      <td>197</td>\n",
       "      <td>4</td>\n",
       "      <td>abarisain/dmix</td>\n",
       "    </tr>\n",
       "    <tr>\n",
       "      <th>2</th>\n",
       "      <td>(dreamteam69, dreamteam69@gmail.com)</td>\n",
       "      <td>2010-08-07 03:14:53</td>\n",
       "      <td>Updated project so it uses 2 . 2 apis</td>\n",
       "      <td>[&lt;FILE&gt; MPDroid / AndroidManifest . xml &lt;nl&gt; &lt;...</td>\n",
       "      <td>3</td>\n",
       "      <td>314</td>\n",
       "      <td>9</td>\n",
       "      <td>abarisain/dmix</td>\n",
       "    </tr>\n",
       "    <tr>\n",
       "      <th>3</th>\n",
       "      <td>(dreamteam69, dreamteam69@gmail.com)</td>\n",
       "      <td>2010-08-07 03:16:28</td>\n",
       "      <td>Fixed text shadow size and cover art DPI</td>\n",
       "      <td>[&lt;FILE&gt; MPDroid / res / layout / main . xml &lt;n...</td>\n",
       "      <td>2</td>\n",
       "      <td>1466</td>\n",
       "      <td>8</td>\n",
       "      <td>abarisain/dmix</td>\n",
       "    </tr>\n",
       "    <tr>\n",
       "      <th>4</th>\n",
       "      <td>(dreamteam69, dreamteam69@gmail.com)</td>\n",
       "      <td>2010-08-07 14:50:35</td>\n",
       "      <td>Fixed 2 . 1 compatibility</td>\n",
       "      <td>[&lt;FILE&gt; MPDroid / default . properties &lt;nl&gt; # ...</td>\n",
       "      <td>3</td>\n",
       "      <td>1634</td>\n",
       "      <td>5</td>\n",
       "      <td>abarisain/dmix</td>\n",
       "    </tr>\n",
       "  </tbody>\n",
       "</table>\n",
       "</div>"
      ],
      "text/plain": [
       "                                             author                date  \\\n",
       "0  (Arnaud Barisain Monrose, DREAMTEAM69@gmail.com) 2010-06-24 22:59:02   \n",
       "1  (Arnaud Barisain Monrose, DREAMTEAM69@gmail.com) 2010-06-25 00:20:53   \n",
       "2              (dreamteam69, dreamteam69@gmail.com) 2010-08-07 03:14:53   \n",
       "3              (dreamteam69, dreamteam69@gmail.com) 2010-08-07 03:16:28   \n",
       "4              (dreamteam69, dreamteam69@gmail.com) 2010-08-07 14:50:35   \n",
       "\n",
       "                                    message  \\\n",
       "0                 Fixed 2 . 1 compatibility   \n",
       "1               Cleaned up debugging things   \n",
       "2     Updated project so it uses 2 . 2 apis   \n",
       "3  Fixed text shadow size and cover art DPI   \n",
       "4                 Fixed 2 . 1 compatibility   \n",
       "\n",
       "                                                diff  num_mods  diff_len  \\\n",
       "0  [<FILE> . DS _ Store <nl> Binary files a / . D...        12      1106   \n",
       "1  [<FILE> MPDroid / src / com / arkanta / mpdroi...         1       197   \n",
       "2  [<FILE> MPDroid / AndroidManifest . xml <nl> <...         3       314   \n",
       "3  [<FILE> MPDroid / res / layout / main . xml <n...         2      1466   \n",
       "4  [<FILE> MPDroid / default . properties <nl> # ...         3      1634   \n",
       "\n",
       "   message_len            repo  \n",
       "0            5  abarisain/dmix  \n",
       "1            4  abarisain/dmix  \n",
       "2            9  abarisain/dmix  \n",
       "3            8  abarisain/dmix  \n",
       "4            5  abarisain/dmix  "
      ]
     },
     "execution_count": 3,
     "metadata": {},
     "output_type": "execute_result"
    }
   ],
   "source": [
    "df = pd.concat(dfs, ignore_index=True, axis=0)\n",
    "df.author = df.author.apply(lambda x: tuple(x))\n",
    "df.head()"
   ]
  },
  {
   "cell_type": "code",
   "execution_count": 4,
   "metadata": {},
   "outputs": [
    {
     "data": {
      "text/plain": [
       "1598723"
      ]
     },
     "execution_count": 4,
     "metadata": {},
     "output_type": "execute_result"
    }
   ],
   "source": [
    "len(df)"
   ]
  },
  {
   "cell_type": "markdown",
   "metadata": {},
   "source": [
    "## Посмотрим статистику по данным"
   ]
  },
  {
   "cell_type": "markdown",
   "metadata": {},
   "source": [
    "### Статистика по коммитам для каждого автора"
   ]
  },
  {
   "cell_type": "code",
   "execution_count": 5,
   "metadata": {},
   "outputs": [
    {
     "data": {
      "text/plain": [
       "count   57697.00\n",
       "mean       27.71\n",
       "std       161.89\n",
       "min         1.00\n",
       "25%         1.00\n",
       "50%         2.00\n",
       "75%         7.00\n",
       "max     11190.00\n",
       "Name: date, dtype: float64"
      ]
     },
     "execution_count": 5,
     "metadata": {},
     "output_type": "execute_result"
    }
   ],
   "source": [
    "author_df = df.groupby(by='author')['date'].count()\n",
    "author_df.describe()"
   ]
  },
  {
   "cell_type": "markdown",
   "metadata": {},
   "source": [
    "Всего есть ~58k уникальных авторов, причем тех, у кого всего один коммит, достаточно много. Посмотрим на конкретное соотношение:"
   ]
  },
  {
   "cell_type": "code",
   "execution_count": 6,
   "metadata": {},
   "outputs": [
    {
     "name": "stdout",
     "output_type": "stream",
     "text": [
      "% of authors with only 1 commit: 41.52\n"
     ]
    }
   ],
   "source": [
    "print(f'% of authors with only 1 commit: {100 * len(author_df.loc[author_df == 1]) / len(author_df):.2f}')"
   ]
  },
  {
   "cell_type": "code",
   "execution_count": 7,
   "metadata": {},
   "outputs": [
    {
     "name": "stdout",
     "output_type": "stream",
     "text": [
      "23958\n"
     ]
    }
   ],
   "source": [
    "print(len(df) - len(df.loc[df['author'].isin(author_df.index[author_df > 1].tolist())]))"
   ]
  },
  {
   "cell_type": "markdown",
   "metadata": {},
   "source": [
    "### Статистика по количеству токенов в диффах\n",
    "\n",
    "Здесь токенизация проводится просто разделением по пробелам, и в данной версии датасета отброшены все примеры более чем с 2048 токенами."
   ]
  },
  {
   "cell_type": "code",
   "execution_count": 8,
   "metadata": {},
   "outputs": [
    {
     "data": {
      "text/plain": [
       "count   1598723.00\n",
       "mean        652.10\n",
       "std         524.89\n",
       "min          73.00\n",
       "25%         216.00\n",
       "50%         478.00\n",
       "75%         977.00\n",
       "max        2048.00\n",
       "Name: diff_len, dtype: float64"
      ]
     },
     "execution_count": 8,
     "metadata": {},
     "output_type": "execute_result"
    }
   ],
   "source": [
    "df['diff_len'].describe()"
   ]
  },
  {
   "cell_type": "code",
   "execution_count": 9,
   "metadata": {},
   "outputs": [
    {
     "name": "stdout",
     "output_type": "stream",
     "text": [
      "% of examples with # of tokens in diff <= 512: 52.38\n"
     ]
    }
   ],
   "source": [
    "print(f\"% of examples with # of tokens in diff <= 512: {100 * len(df.loc[df['diff_len'] <= 512]) / len(df):.2f}\")"
   ]
  },
  {
   "cell_type": "markdown",
   "metadata": {},
   "source": [
    "### Статистика по количеству токенов в сообщениях"
   ]
  },
  {
   "cell_type": "code",
   "execution_count": 10,
   "metadata": {},
   "outputs": [
    {
     "data": {
      "text/plain": [
       "count   1598723.00\n",
       "mean         18.62\n",
       "std          20.50\n",
       "min           4.00\n",
       "25%           7.00\n",
       "50%          11.00\n",
       "75%          21.00\n",
       "max         152.00\n",
       "Name: message_len, dtype: float64"
      ]
     },
     "execution_count": 10,
     "metadata": {},
     "output_type": "execute_result"
    }
   ],
   "source": [
    "df['message_len'].describe()"
   ]
  },
  {
   "cell_type": "markdown",
   "metadata": {},
   "source": [
    "### Немного статистики по структуре диффов\n",
    "\n",
    "При сборе данных учитывались только коммиты, в которых есть .java файлы, но помимо них вполне могут быть и другие. Посмотрим, какую долю от всех изменений составляют изменения .java-файлов: "
   ]
  },
  {
   "cell_type": "code",
   "execution_count": 11,
   "metadata": {},
   "outputs": [
    {
     "name": "stdout",
     "output_type": "stream",
     "text": [
      "% of .java modifications: 87.16%\n"
     ]
    }
   ],
   "source": [
    "java_mods = df['diff'].apply(lambda x: sum([any('. java' in line for line in diff.split('<nl>')[:2]) for diff in x]))\n",
    "print(f'% of .java modifications: {100 * java_mods.sum() / df[\"num_mods\"].sum():.2f}%')"
   ]
  },
  {
   "cell_type": "markdown",
   "metadata": {},
   "source": [
    "В некоторых примерах встречаются изменения вида `Binary files x and y differ`, которые не очень информативны. Посмотрим, какую долю от всех изменений составляют такие изменения:"
   ]
  },
  {
   "cell_type": "code",
   "execution_count": 12,
   "metadata": {},
   "outputs": [
    {
     "name": "stdout",
     "output_type": "stream",
     "text": [
      "% of \"Binary files x and y differ\" modifications: 0.58%\n"
     ]
    }
   ],
   "source": [
    "binary_files_mods = df['diff'].apply(lambda x: sum(['Binary files' in diff for diff in x]))\n",
    "print(f'% of \"Binary files x and y differ\" modifications: {100 * binary_files_mods.sum() / df[\"num_mods\"].sum():.2f}%')"
   ]
  },
  {
   "cell_type": "markdown",
   "metadata": {},
   "source": [
    "### Немного примеров"
   ]
  },
  {
   "cell_type": "code",
   "execution_count": 13,
   "metadata": {},
   "outputs": [
    {
     "name": "stdout",
     "output_type": "stream",
     "text": [
      "Diff (103 tokens)\n",
      "['<FILE> webanno - brat / src / main / java / de / tudarmstadt / ukp / clarin / webanno / brat / annotation / component / AnnotationDetailEditorPanel . java <nl> <nl> protected void onChange ( AjaxRequestTarget aTarget , ActionContext aBModel ) <nl> { <nl> - / / Overriden in BratAnnotator <nl> + / / Overriden in CurationPanel <nl> } <nl> <nl> protected void onAutoForward ( AjaxRequestTarget aTarget , ActionContext aBModel ) <nl> { <nl> - / / Overriden in BratAnnotator <nl> + / / Overriden in CurationPanel <nl> } <nl> <nl> protected void onAnnotate ( AjaxRequestTarget aTarget , ActionContext aModel ) <nl>']\n",
      "\n",
      "Message (9 tokens)\n",
      " - Refactoring project structure <nl> - Correcting comment text\n",
      "\n",
      "Author\n",
      "('Richard Eckart de Castilho', 'richard.eckart@gmail.com')\n"
     ]
    }
   ],
   "source": [
    "idx = np.random.randint(len(df))\n",
    "print(f'Diff ({df[\"diff_len\"][idx]} tokens)', df['diff'][idx], sep='\\n')\n",
    "print()\n",
    "print(f'Message ({df[\"message_len\"][idx]} tokens)', df['message'][idx], sep='\\n')\n",
    "print()\n",
    "print('Author', df['author'][idx], sep='\\n')"
   ]
  },
  {
   "cell_type": "markdown",
   "metadata": {},
   "source": [
    "## Сохраним данные в более удобном формате"
   ]
  },
  {
   "cell_type": "code",
   "execution_count": 15,
   "metadata": {},
   "outputs": [],
   "source": [
    "# отсортируем датафрейм так, чтобы у каждого автора коммиты шли в соответствии с датой, от самых ранних к самым поздним\n",
    "df.sort_values(by=['author', 'date'], inplace=True)\n",
    "\n",
    "# заменим авторов на что-то вроде id, чтобы было проще\n",
    "from sklearn.preprocessing import LabelEncoder\n",
    "\n",
    "le = LabelEncoder()\n",
    "df['author'] = df['author'].apply(lambda x: x[0] + '<SEP>' + x[1]) # label encoder doesn't work with tuples\n",
    "df['author'] = le.fit_transform(df['author'])\n",
    "\n",
    "# сделаем из диффов-списков диффы-строки\n",
    "df['diff'] = df['diff'].apply(lambda x: ' '.join(x))"
   ]
  },
  {
   "cell_type": "markdown",
   "metadata": {},
   "source": [
    "Вынесем в train, val и test разные репозитории."
   ]
  },
  {
   "cell_type": "code",
   "execution_count": 42,
   "metadata": {},
   "outputs": [],
   "source": [
    "from sklearn.model_selection import train_test_split\n",
    "\n",
    "repos = df['repo'].unique()\n",
    "\n",
    "train_repos, test_repos = train_test_split(repos, test_size=0.01, shuffle=True, random_state=5)\n",
    "train_repos, val_repos = train_test_split(train_repos, test_size=0.01, random_state=5)"
   ]
  },
  {
   "cell_type": "code",
   "execution_count": 43,
   "metadata": {},
   "outputs": [
    {
     "name": "stdout",
     "output_type": "stream",
     "text": [
      "Train: 975\n",
      "Val: 10\n",
      "Test: 10\n"
     ]
    }
   ],
   "source": [
    "print('Train:', len(train_repos))\n",
    "print('Val:', len(val_repos))\n",
    "print('Test:', len(test_repos))"
   ]
  },
  {
   "cell_type": "code",
   "execution_count": 44,
   "metadata": {},
   "outputs": [
    {
     "data": {
      "text/plain": [
       "(14185, 8)"
      ]
     },
     "execution_count": 44,
     "metadata": {},
     "output_type": "execute_result"
    }
   ],
   "source": [
    "test_df = df.loc[df['repo'].isin(test_repos)]\n",
    "test_df.shape"
   ]
  },
  {
   "cell_type": "code",
   "execution_count": 45,
   "metadata": {},
   "outputs": [
    {
     "data": {
      "text/plain": [
       "(25230, 8)"
      ]
     },
     "execution_count": 45,
     "metadata": {},
     "output_type": "execute_result"
    }
   ],
   "source": [
    "val_df = df.loc[df['repo'].isin(val_repos)]\n",
    "val_df.shape"
   ]
  },
  {
   "cell_type": "code",
   "execution_count": 46,
   "metadata": {},
   "outputs": [
    {
     "data": {
      "text/plain": [
       "(1559308, 8)"
      ]
     },
     "execution_count": 46,
     "metadata": {},
     "output_type": "execute_result"
    }
   ],
   "source": [
    "train_df = df.loc[df['repo'].isin(train_repos)]\n",
    "train_df.shape"
   ]
  },
  {
   "cell_type": "markdown",
   "metadata": {},
   "source": [
    "Теперь дополнительно проверим, что в train не встречаются авторы из val и test."
   ]
  },
  {
   "cell_type": "code",
   "execution_count": 47,
   "metadata": {},
   "outputs": [
    {
     "name": "stdout",
     "output_type": "stream",
     "text": [
      "Intersection between val and test:\n",
      "[28454]\n"
     ]
    }
   ],
   "source": [
    "test_authors = test_df['author'].unique()\n",
    "val_authors = val_df['author'].unique()\n",
    "\n",
    "print('Intersection between val and test:')\n",
    "print(np.intersect1d(test_authors, val_authors))\n",
    "\n",
    "test_and_val_authors = list(test_authors) +  list(val_authors)"
   ]
  },
  {
   "cell_type": "code",
   "execution_count": 48,
   "metadata": {},
   "outputs": [
    {
     "data": {
      "text/plain": [
       "(1520342, 8)"
      ]
     },
     "execution_count": 48,
     "metadata": {},
     "output_type": "execute_result"
    }
   ],
   "source": [
    "train_df = train_df.loc[~train_df['author'].isin(test_and_val_authors)]\n",
    "train_df.shape"
   ]
  },
  {
   "cell_type": "code",
   "execution_count": 49,
   "metadata": {},
   "outputs": [
    {
     "data": {
      "text/html": [
       "<div>\n",
       "<style scoped>\n",
       "    .dataframe tbody tr th:only-of-type {\n",
       "        vertical-align: middle;\n",
       "    }\n",
       "\n",
       "    .dataframe tbody tr th {\n",
       "        vertical-align: top;\n",
       "    }\n",
       "\n",
       "    .dataframe thead th {\n",
       "        text-align: right;\n",
       "    }\n",
       "</style>\n",
       "<table border=\"1\" class=\"dataframe\">\n",
       "  <thead>\n",
       "    <tr style=\"text-align: right;\">\n",
       "      <th></th>\n",
       "      <th>author</th>\n",
       "      <th>date</th>\n",
       "      <th>message</th>\n",
       "      <th>diff</th>\n",
       "      <th>num_mods</th>\n",
       "      <th>diff_len</th>\n",
       "      <th>message_len</th>\n",
       "      <th>repo</th>\n",
       "    </tr>\n",
       "  </thead>\n",
       "  <tbody>\n",
       "    <tr>\n",
       "      <th>1390099</th>\n",
       "      <td>99</td>\n",
       "      <td>2014-05-11 21:19:07</td>\n",
       "      <td>And re - add renamed file . . .</td>\n",
       "      <td>&lt;FILE&gt; src / main / java / org / spongepowered...</td>\n",
       "      <td>3</td>\n",
       "      <td>235</td>\n",
       "      <td>9</td>\n",
       "      <td>spongepowered/spongeapi</td>\n",
       "    </tr>\n",
       "    <tr>\n",
       "      <th>1228073</th>\n",
       "      <td>100</td>\n",
       "      <td>2010-05-12 23:39:56</td>\n",
       "      <td>[ PAXWEB - 216 ] - added fail events</td>\n",
       "      <td>&lt;FILE&gt; pax - web - extender - war / src / main...</td>\n",
       "      <td>1</td>\n",
       "      <td>1574</td>\n",
       "      <td>9</td>\n",
       "      <td>ops4j/org.ops4j.pax.web</td>\n",
       "    </tr>\n",
       "    <tr>\n",
       "      <th>1228074</th>\n",
       "      <td>100</td>\n",
       "      <td>2010-06-12 00:32:02</td>\n",
       "      <td>[ PAXWEB - 218 ] - The next waiting webapp is ...</td>\n",
       "      <td>&lt;FILE&gt; pax - web - extender - war / src / main...</td>\n",
       "      <td>1</td>\n",
       "      <td>1103</td>\n",
       "      <td>12</td>\n",
       "      <td>ops4j/org.ops4j.pax.web</td>\n",
       "    </tr>\n",
       "    <tr>\n",
       "      <th>279027</th>\n",
       "      <td>101</td>\n",
       "      <td>2001-10-24 09:07:36</td>\n",
       "      <td>Added method getText ( page , version ) , getH...</td>\n",
       "      <td>&lt;FILE&gt; src / com / ecyrd / jspwiki / WikiEngin...</td>\n",
       "      <td>1</td>\n",
       "      <td>451</td>\n",
       "      <td>42</td>\n",
       "      <td>apache/jspwiki</td>\n",
       "    </tr>\n",
       "    <tr>\n",
       "      <th>279088</th>\n",
       "      <td>101</td>\n",
       "      <td>2001-11-23 15:10:24</td>\n",
       "      <td>Initial version of tag library object for quer...</td>\n",
       "      <td>new file &lt;nl&gt; &lt;FILE&gt; src / com / ecyrd / jspwi...</td>\n",
       "      <td>1</td>\n",
       "      <td>1468</td>\n",
       "      <td>11</td>\n",
       "      <td>apache/jspwiki</td>\n",
       "    </tr>\n",
       "  </tbody>\n",
       "</table>\n",
       "</div>"
      ],
      "text/plain": [
       "         author                date  \\\n",
       "1390099      99 2014-05-11 21:19:07   \n",
       "1228073     100 2010-05-12 23:39:56   \n",
       "1228074     100 2010-06-12 00:32:02   \n",
       "279027      101 2001-10-24 09:07:36   \n",
       "279088      101 2001-11-23 15:10:24   \n",
       "\n",
       "                                                   message  \\\n",
       "1390099                    And re - add renamed file . . .   \n",
       "1228073               [ PAXWEB - 216 ] - added fail events   \n",
       "1228074  [ PAXWEB - 218 ] - The next waiting webapp is ...   \n",
       "279027   Added method getText ( page , version ) , getH...   \n",
       "279088   Initial version of tag library object for quer...   \n",
       "\n",
       "                                                      diff  num_mods  \\\n",
       "1390099  <FILE> src / main / java / org / spongepowered...         3   \n",
       "1228073  <FILE> pax - web - extender - war / src / main...         1   \n",
       "1228074  <FILE> pax - web - extender - war / src / main...         1   \n",
       "279027   <FILE> src / com / ecyrd / jspwiki / WikiEngin...         1   \n",
       "279088   new file <nl> <FILE> src / com / ecyrd / jspwi...         1   \n",
       "\n",
       "         diff_len  message_len                     repo  \n",
       "1390099       235            9  spongepowered/spongeapi  \n",
       "1228073      1574            9  ops4j/org.ops4j.pax.web  \n",
       "1228074      1103           12  ops4j/org.ops4j.pax.web  \n",
       "279027        451           42           apache/jspwiki  \n",
       "279088       1468           11           apache/jspwiki  "
      ]
     },
     "execution_count": 49,
     "metadata": {},
     "output_type": "execute_result"
    }
   ],
   "source": [
    "train_df.head()"
   ]
  },
  {
   "cell_type": "code",
   "execution_count": 50,
   "metadata": {},
   "outputs": [
    {
     "data": {
      "text/plain": [
       "56310"
      ]
     },
     "execution_count": 50,
     "metadata": {},
     "output_type": "execute_result"
    }
   ],
   "source": [
    "train_df['author'].nunique()"
   ]
  },
  {
   "cell_type": "code",
   "execution_count": 51,
   "metadata": {},
   "outputs": [
    {
     "data": {
      "text/plain": [
       "816"
      ]
     },
     "execution_count": 51,
     "metadata": {},
     "output_type": "execute_result"
    }
   ],
   "source": [
    "val_df['author'].nunique()"
   ]
  },
  {
   "cell_type": "code",
   "execution_count": 52,
   "metadata": {},
   "outputs": [
    {
     "data": {
      "text/plain": [
       "572"
      ]
     },
     "execution_count": 52,
     "metadata": {},
     "output_type": "execute_result"
    }
   ],
   "source": [
    "test_df['author'].nunique()"
   ]
  },
  {
   "cell_type": "code",
   "execution_count": 53,
   "metadata": {
    "pycharm": {
     "name": "#%%\n"
    }
   },
   "outputs": [],
   "source": [
    "train_df[['diff', 'message', 'author']].to_csv('train.csv', header=None, index=None)\n",
    "val_df[['diff', 'message', 'author']].to_csv('val.csv', header=None, index=None)\n",
    "test_df[['diff', 'message', 'author']].to_csv('test.csv', header=None, index=None)"
   ]
  }
 ],
 "metadata": {
  "kernelspec": {
   "display_name": "Python 3",
   "language": "python",
   "name": "python3"
  },
  "language_info": {
   "codemirror_mode": {
    "name": "ipython",
    "version": 3
   },
   "file_extension": ".py",
   "mimetype": "text/x-python",
   "name": "python",
   "nbconvert_exporter": "python",
   "pygments_lexer": "ipython3",
   "version": "3.8.5"
  }
 },
 "nbformat": 4,
 "nbformat_minor": 5
}